{
 "cells": [
  {
   "cell_type": "code",
   "execution_count": 62,
   "metadata": {},
   "outputs": [],
   "source": [
    "import seaborn as sns\n",
    "import pandas as pd\n",
    "import matplotlib.pyplot as plt\n",
    "import matplotlib.ticker as ticker\n",
    "\n",
    "\n",
    "import sys \n",
    "import os\n",
    "path = os.path.dirname(os.getcwd())\n",
    "sys.path.append(path)\n",
    "from lib import *"
   ]
  },
  {
   "cell_type": "code",
   "execution_count": 63,
   "metadata": {},
   "outputs": [],
   "source": [
    "# Results Import\n",
    "optimization_result = pd.read_csv(\"../results/1_optimization_result.csv\")\n",
    "baseline_result = pd.read_csv(\"../results/2_baseline.csv\")\n",
    "simpleCA_result = pd.read_csv(\"../results/3_simpleCA_result.csv\")\n",
    "randomizedEB_result = pd.read_csv(\"../results/4_randomEB_optimization.csv\")\n",
    "leftover_result = pd.read_csv(\"../results/5_leftover_optimization_result.csv\")\n",
    "leftover_resultWeighted = pd.read_csv(\"../results/7_leftoverWeighted_optimization_result.csv\")\n",
    "\n",
    "leftoverAddToEB_result = pd.read_csv(\"../results/6_leftoverEB_optimization_result.csv\")\n",
    "op_baseline_result = pd.read_csv(\"../results/8_baselineOptimization_result.csv\")\n",
    "\n",
    "randomizedEB_result_08_12 = pd.read_csv(\"../results/9_randomEB_optimization_08_12.csv\")\n",
    "\n",
    "# Data Import\n",
    "df = pd.read_csv(r'../data/DE_2020.csv')\n",
    "ci_data_2020 = df['carbon_intensity_avg']\n",
    "df = pd.read_csv(r'../data/DE_2021.csv')\n",
    "ci_data_2021 = df['carbon_intensity_avg']\n",
    "df = pd.read_csv(r'../data/projectcount_wikiDE_2014.csv')\n",
    "clickData_hourly_2014 = df[\"de\"]\n",
    "df = pd.read_csv(r'../data/projectcount_wikiDE_2015.csv')\n",
    "clickData_hourly_2015 = df[\"De\"].tolist()\n",
    "clickData_hourly_2015 = clickData_hourly_2015[24:] + clickData_hourly_2015[0:24]\n",
    "\n",
    "carbonBudget = calcCarbonBudgetHourInWeekAVG(2020,clickData_hourly_2014,ci_data_2020)"
   ]
  },
  {
   "cell_type": "code",
   "execution_count": 64,
   "metadata": {},
   "outputs": [
    {
     "name": "stdout",
     "output_type": "stream",
     "text": [
      "CE-Increase compared to AVG: 9.627935370297537\n",
      "Q compared to AVG: 38.17042484441831\n"
     ]
    }
   ],
   "source": [
    "ed_avg_2021 = calcEnergyDemandFromAVG(clickData_hourly_2015)\n",
    "\n",
    "ce_avg_2021 = calcCarbonEmissionFromEnergyDemand(ed_avg_2021,ci_data_2021)\n",
    "\n",
    "q_avg_2021 = calcQFromAVG(clickData_hourly_2015)\n",
    "\n",
    "sum_q_avg_2021 = sum([q_avg_2021[i][-1] for i in range(len(q_avg_2021))])\n",
    "\n",
    "print(\"CE-Increase compared to AVG: \" + str((sum(optimization_result[\"ce\"])- sum(ce_avg_2021)) / sum(ce_avg_2021) * 100))\n",
    "print(\"Q compared to AVG: \" + str((sum(optimization_result[\"user-throughput\"])- sum_q_avg_2021) / sum_q_avg_2021 * 100))"
   ]
  },
  {
   "cell_type": "markdown",
   "metadata": {},
   "source": [
    "# Carbon Budget Utilization"
   ]
  },
  {
   "cell_type": "code",
   "execution_count": 65,
   "metadata": {},
   "outputs": [],
   "source": [
    "weekday_frequency = weekdayfrequency(2021)\n",
    "s = weekday_frequency.index(53)*24\n",
    "optimal_cb = []\n",
    "simple_cb = []\n",
    "baseline_lp_cb = []\n",
    "baseline_np_cb = []\n",
    "baseline_hp_cb = []\n",
    "randomEB_cb = []\n",
    "leftover_result_cb = []\n",
    "leftover_resultWeighted_cb = []\n",
    "op_baseline_result_cb = []\n",
    "leftoverAddToEB_result_cb = []\n",
    "randomizedEB_result_08_12_cb = []\n",
    "#op_cb = []\n",
    "for i in range(8760):\n",
    "    index = (i+s) % 168\n",
    "    optimal_cb.append(optimization_result['ce'][i] / carbonBudget[index])\n",
    "    simple_cb.append(simpleCA_result['ce'][i]  / carbonBudget[index])\n",
    "    baseline_lp_cb.append((baseline_result['lp'][i]*ci_data_2021[i]) / carbonBudget[index])\n",
    "    baseline_np_cb.append((baseline_result['np'][i]*ci_data_2021[i]) / carbonBudget[index])\n",
    "    baseline_hp_cb.append((baseline_result['hp'][i]*ci_data_2021[i]) / carbonBudget[index])\n",
    "    randomEB_cb.append(randomizedEB_result['ce'][i]  / carbonBudget[index])\n",
    "    leftover_result_cb.append(leftover_result['ce'][i]  / carbonBudget[index])\n",
    "    leftover_resultWeighted_cb.append(leftover_resultWeighted['ce'][i]  / carbonBudget[index])\n",
    "    op_baseline_result_cb.append(op_baseline_result['ce'][i]  / carbonBudget[index])\n",
    "    leftoverAddToEB_result_cb.append(leftoverAddToEB_result['ce'][i]  / carbonBudget[index])\n",
    "    randomizedEB_result_08_12_cb.append(randomizedEB_result_08_12['ce'][i] / carbonBudget[index])"
   ]
  },
  {
   "cell_type": "code",
   "execution_count": 66,
   "metadata": {},
   "outputs": [
    {
     "name": "stdout",
     "output_type": "stream",
     "text": [
      "Mean CB Utilization\n",
      "Optimal:  85.15942326104079\n",
      "Simple:  58.740198835693434\n",
      "Baseline LP:  11.36080618455312\n",
      "Baseline NP:  133.3677408378274\n",
      "Baseline HP:  343.2683756058953\n",
      "Random EB (0.8-1.2)  85.11098954962752\n",
      "Random EB (1.0-1.4):  99.0634093498923\n",
      "Leftover:  105.27125220725824\n",
      "Leftover Weighted:  99.60398878215297\n",
      "Leftover Hour-to-Hour:  94.17004073587934\n",
      "Optimum:  100.78777741308717\n"
     ]
    }
   ],
   "source": [
    "print(\"Mean CB Utilization\")\n",
    "print(\"Optimal: \", np.mean(optimal_cb)*100)\n",
    "print(\"Simple: \", np.mean(simple_cb)*100)\n",
    "print(\"Baseline LP: \", np.mean(baseline_lp_cb)*100)\n",
    "print(\"Baseline NP: \", np.mean(baseline_np_cb)*100)\n",
    "print(\"Baseline HP: \", np.mean(baseline_hp_cb)*100)\n",
    "print(\"Random EB (0.8-1.2) \", np.mean(randomizedEB_result_08_12_cb)*100)\n",
    "print(\"Random EB (1.0-1.4): \", np.mean(randomEB_cb)*100)\n",
    "print(\"Leftover: \", np.mean(leftover_result_cb)*100)\n",
    "print(\"Leftover Weighted: \", np.mean(leftover_resultWeighted_cb)*100)\n",
    "print(\"Leftover Hour-to-Hour: \", np.mean(leftoverAddToEB_result_cb)*100)\n",
    "print(\"Optimum: \", np.mean(op_baseline_result_cb)*100)"
   ]
  },
  {
   "cell_type": "code",
   "execution_count": 68,
   "metadata": {},
   "outputs": [
    {
     "name": "stdout",
     "output_type": "stream",
     "text": [
      "Mean Revenue (in q)\n",
      "Optimal:  58.86844713184981\n",
      "Simple:  49.60349568493198\n",
      "Random EB (0.8-1.2)  58.59677957619711\n",
      "Random EB (1.0-1.4)  61.1006128741441\n",
      "Leftover:  61.772084640413574\n",
      "Leftover Weighted:  60.86443998287878\n",
      "Leftover Hour-to-Hour:  59.89959005137124\n",
      "Optimum:  77.3216106164334\n"
     ]
    }
   ],
   "source": [
    "print(\"Mean Revenue (in q)\")\n",
    "print(\"Optimal: \", np.mean(optimization_result['q'])*100)\n",
    "print(\"Simple: \", np.mean(simpleCA_result['q'])*100)\n",
    "print(\"Random EB (0.8-1.2) \", np.mean(randomizedEB_result_08_12['q'])*100)\n",
    "print(\"Random EB (1.0-1.4) \", np.mean(randomizedEB_result['q'])*100)\n",
    "print(\"Leftover: \", np.mean(leftover_result['q'])*100)\n",
    "print(\"Leftover Weighted: \", np.mean(leftover_resultWeighted['q'])*100)\n",
    "print(\"Leftover Hour-to-Hour: \", np.mean(leftoverAddToEB_result[\"q\"])*100)\n",
    "print(\"Optimum: \", np.mean(op_baseline_result['q'])*100)"
   ]
  },
  {
   "cell_type": "code",
   "execution_count": 42,
   "metadata": {},
   "outputs": [
    {
     "name": "stdout",
     "output_type": "stream",
     "text": [
      "Distance to goal in %\n",
      "Optimal: 14.134021484540053\n",
      "Simple: 38.28152716754724\n",
      "Baseline LP: 82.04118577391074\n",
      "Baseline NP: -28.610619033482585\n",
      "Baseline HP: -219.14217526198198\n",
      "Random EB: 1.2634120163061793\n",
      "Leftover: 0.6991152461706678\n",
      "Leftover Weighted: 0.6493013186342926\n",
      "Leftover Hour-to-Hour: 5.883501958073951\n",
      "Optimum: 0.00015873023349843862\n"
     ]
    }
   ],
   "source": [
    "ed = calcEnergyDemandFromAVG(clickData_hourly_2014)\n",
    "carbonEmission = calcCarbonEmissionFromEnergyDemand(ed,ci_data_2020)\n",
    "baseline_lp_ce = []\n",
    "baseline_np_ce = []\n",
    "baseline_hp_ce = []\n",
    "\n",
    "for i in range(8760):\n",
    "    baseline_lp_ce.append(baseline_result['lp'][i]*ci_data_2021[i])\n",
    "    baseline_np_ce.append(baseline_result['np'][i]*ci_data_2021[i])\n",
    "    baseline_hp_ce.append(baseline_result['hp'][i]*ci_data_2021[i])\n",
    "\n",
    "print(\"Distance to goal in %\")\n",
    "print(\"Optimal: \" + str((sum(carbonEmission)-sum(optimization_result['ce']))/sum(carbonEmission)*100 -7.7))\n",
    "print(\"Simple: \" + str((sum(carbonEmission)-sum(simpleCA_result['ce']))/sum(carbonEmission)*100 -7.7))\n",
    "print(\"Baseline LP: \" + str((sum(carbonEmission)-sum(baseline_lp_ce))/sum(carbonEmission)*100 -7.7))\n",
    "print(\"Baseline NP: \" + str((sum(carbonEmission)-sum(baseline_np_ce))/sum(carbonEmission)*100 -7.7))\n",
    "print(\"Baseline HP: \" + str((sum(carbonEmission)-sum(baseline_hp_ce))/sum(carbonEmission)*100 -7.7))\n",
    "print(\"Random EB (1.0-1.4) \" + str((sum(carbonEmission)-sum(randomizedEB_result['ce']))/sum(carbonEmission)*100 -7.7))\n",
    "print(\"Leftover: \" + str((sum(carbonEmission)-sum(leftover_result['ce']))/sum(carbonEmission)*100 -7.7))\n",
    "print(\"Leftover Weighted: \" + str((sum(carbonEmission)-sum(leftover_resultWeighted['ce']))/sum(carbonEmission)*100 -7.7))\n",
    "print(\"Leftover Hour-to-Hour: \" + str((sum(carbonEmission)-sum(leftoverAddToEB_result['ce']))/sum(carbonEmission)*100 -7.7))\n",
    "print(\"Optimum: \" + str((sum(carbonEmission)-sum(op_baseline_result['ce']))/sum(carbonEmission)*100 -7.7))"
   ]
  },
  {
   "cell_type": "code",
   "execution_count": 43,
   "metadata": {},
   "outputs": [],
   "source": [
    "ci_list = ci_data_2020.tolist()\n",
    "ci_data = ci_list[0:1416] + ci_list[1416+24:8784]\n",
    "revenue_2020 = calcQFromAVG(clickData_hourly_2014)\n",
    "\n",
    "baseline_lp_Q = []\n",
    "baseline_np_Q = []\n",
    "baseline_hp_Q = []\n",
    "\n",
    "for i in range(8760):\n",
    "    baseline_lp_Q.append(clickData_hourly_2015[i]*0.1670625)\n",
    "    baseline_np_Q.append(clickData_hourly_2015[i]*0.30071250000000005)\n",
    "    baseline_hp_Q.append(clickData_hourly_2015[i]*0.8464499999999999)\n",
    "\n",
    "ut_2020 = 0\n",
    "for i in range(len(revenue_2020)):\n",
    "    ut_2020 += revenue_2020[i][-1]"
   ]
  },
  {
   "cell_type": "code",
   "execution_count": 44,
   "metadata": {},
   "outputs": [
    {
     "name": "stdout",
     "output_type": "stream",
     "text": [
      "Distance revenue in user-throughput\n",
      "Optimal: 17.050538280616994\n",
      "Simple: -2.4912362957158973\n",
      "Baseline LP: -66.43259003768551\n",
      "Baseline NP: -39.57866206783386\n",
      "Baseline HP: 70.07487714239404\n",
      "Random EB: 21.66637756959042\n",
      "Leftover: 21.730599393746523\n",
      "Leftover Weighted: 20.964160099164168\n",
      "Leftover Hour-to-Hour: 18.987176810171345\n",
      "Optimum: 56.195726159600554\n"
     ]
    }
   ],
   "source": [
    "print(\"Distance revenue in user-throughput\")\n",
    "print(\"Optimal: \" + str((sum(optimization_result['user-throughput'])-ut_2020)/ut_2020*100))\n",
    "print(\"Simple: \" + str((sum(simpleCA_result['user-throughput'])-ut_2020)/ut_2020*100))\n",
    "print(\"Baseline LP: \" + str((sum(baseline_lp_Q)-ut_2020)/ut_2020*100))\n",
    "print(\"Baseline NP: \" + str((sum(baseline_np_Q)-ut_2020)/ut_2020*100))\n",
    "print(\"Baseline HP: \" + str((sum(baseline_hp_Q)-ut_2020)/ut_2020*100))\n",
    "print(\"Random EB (1.0-1.4):\" + str((sum(randomizedEB_result['user-throughput'])-ut_2020)/ut_2020*100))\n",
    "print(\"Leftover: \" + str((sum(leftover_result['user-throughput'])-ut_2020)/ut_2020*100))\n",
    "print(\"Leftover Weighted: \" + str((sum(leftover_resultWeighted['user-throughput'])-ut_2020)/ut_2020*100))\n",
    "print(\"Leftover Hour-to-Hour: \" + str((sum(leftoverAddToEB_result['user-throughput'])-ut_2020)/ut_2020*100))\n",
    "print(\"Optimum: \" + str((sum(op_baseline_result['user-throughput'])-ut_2020)/ut_2020*100))"
   ]
  },
  {
   "cell_type": "code",
   "execution_count": 45,
   "metadata": {},
   "outputs": [
    {
     "name": "stdout",
     "output_type": "stream",
     "text": [
      "CE Reduction \n",
      "Optimal: 21.834021484540052\n",
      "Simple: 45.98152716754724\n",
      "Baseline LP: 89.74118577391074\n",
      "Baseline NP: -20.910619033482586\n",
      "Baseline HP: -211.442175261982\n",
      "Random EB: 8.96341201630618\n",
      "Leftover: 8.399115246170668\n",
      "Leftover Weighted: 8.349301318634293\n",
      "Leftover Hour-to-Hour: 13.583501958073951\n",
      "Optimum: 7.700158730233499\n"
     ]
    }
   ],
   "source": [
    "print(\"CE Reduction \")\n",
    "print(\"Optimal: \" + str((sum(carbonEmission)-sum(optimization_result['ce']))/sum(carbonEmission)*100))\n",
    "print(\"Simple: \" + str((sum(carbonEmission)-sum(simpleCA_result['ce']))/sum(carbonEmission)*100))\n",
    "print(\"Baseline LP: \" + str((sum(carbonEmission)-sum(baseline_lp_ce))/sum(carbonEmission)*100))\n",
    "print(\"Baseline NP: \" + str((sum(carbonEmission)-sum(baseline_np_ce))/sum(carbonEmission)*100))\n",
    "print(\"Baseline HP: \" + str((sum(carbonEmission)-sum(baseline_hp_ce))/sum(carbonEmission)*100))\n",
    "print(\"Random EB (1.0-1.4): \" + str((sum(carbonEmission)-sum(randomizedEB_result['ce']))/sum(carbonEmission)*100))\n",
    "print(\"Leftover: \" + str((sum(carbonEmission)-sum(leftover_result['ce']))/sum(carbonEmission)*100))\n",
    "print(\"Leftover Weighted: \" + str((sum(carbonEmission)-sum(leftover_resultWeighted['ce']))/sum(carbonEmission)*100))\n",
    "print(\"Leftover Hour-to-Hour: \" + str((sum(carbonEmission)-sum(leftoverAddToEB_result['ce']))/sum(carbonEmission)*100))\n",
    "print(\"Optimum: \" + str((sum(carbonEmission)-sum(op_baseline_result['ce']))/sum(carbonEmission)*100))"
   ]
  },
  {
   "cell_type": "code",
   "execution_count": 46,
   "metadata": {},
   "outputs": [
    {
     "name": "stdout",
     "output_type": "stream",
     "text": [
      "Difference Basline N to Simple: 38.034966666784335\n"
     ]
    }
   ],
   "source": [
    "print(\"Difference Basline N to Simple: \" + str((sum(simpleCA_result['user-throughput'])-sum(baseline_np_Q))/sum(simpleCA_result['user-throughput'])*100))"
   ]
  },
  {
   "cell_type": "markdown",
   "metadata": {},
   "source": [
    "# Carbon Budget Utilization"
   ]
  },
  {
   "cell_type": "code",
   "execution_count": 47,
   "metadata": {},
   "outputs": [],
   "source": [
    "df = pd.read_csv(r'../data/projectcount_wikiDE_2014.csv')\n",
    "clickData_hourly_2014 = df[\"de\"]\n",
    "carbonBudget = calcCarbonBudgetHourInWeekAVG(2020,clickData_hourly_2014,ci_data_2020)\n",
    "optimal_eb = []\n",
    "simple_eb = []\n",
    "baseline_lp_cb = []\n",
    "baseline_np_cb = []\n",
    "baseline_hp_cb = []\n",
    "op_cb = []\n",
    "leftover_result_eb = []\n",
    "leftover_resultWeighted_ed = []\n",
    "randomEB_result_eb = []\n",
    "randomEB_075_result_eb = []\n",
    "\n",
    "year=2015\n",
    "weekday_frequency = weekdayfrequency(year)\n",
    "s = weekday_frequency.index(53)*24"
   ]
  },
  {
   "cell_type": "code",
   "execution_count": 48,
   "metadata": {},
   "outputs": [],
   "source": [
    "for i in range(0,8760):\n",
    "    optimal_eb.append(carbonBudget[(i+s) % 168] - optimization_result['ed'][i])\n",
    "    simple_eb.append(carbonBudget[(i+s) % 168] - simpleCA_result['ed'][i])\n",
    "    leftover_result_eb.append(carbonBudget[(i+s) % 168])\n",
    "    randomEB_result_eb.append(carbonBudget[(i+s) % 168] - randomizedEB_result['ed'][i])\n",
    "    #randomEB_075_result_eb.append(randomEB_075_result['ed'][i]  / carbonBudget[(i+s) % 168])"
   ]
  },
  {
   "cell_type": "code",
   "execution_count": 49,
   "metadata": {},
   "outputs": [
    {
     "name": "stdout",
     "output_type": "stream",
     "text": [
      "Gap to budget (total):  37440134751.763725\n",
      "Gap to budget (in percent):  98.10377998980229\n",
      "Gap to budget (in percent):  1.8962200101977023\n"
     ]
    }
   ],
   "source": [
    "EB_annum = 109090108.87360902\n",
    "\n",
    "print(\"Gap to budget (total): \", sum(optimal_eb))\n",
    "print(\"Gap to budget (in percent): \", sum(optimization_result['ed']) / EB_annum *100) \n",
    "print(\"Gap to budget (in percent): \", (1 -(sum(optimization_result['ed']) / EB_annum)) *100) "
   ]
  },
  {
   "cell_type": "code",
   "execution_count": null,
   "metadata": {},
   "outputs": [],
   "source": []
  },
  {
   "cell_type": "markdown",
   "metadata": {},
   "source": [
    "# Exceeding Budget Approaches"
   ]
  },
  {
   "cell_type": "code",
   "execution_count": 50,
   "metadata": {},
   "outputs": [
    {
     "name": "stdout",
     "output_type": "stream",
     "text": [
      "Recycle: Gap to budget (total):  -17375363.626391545\n",
      "Recycle: Gap to budget (in %):  115.92753349116418\n",
      "\n",
      "Weighted Recycle: Gap to budget (total):  -17374495.82639207\n",
      "Weighted Recycle: Gap to budget (in %):  115.92673800199616\n",
      "\n",
      "Randomiized Result: Gap to budget (total):  -16528328.19639133\n",
      "Randomiized Result: Gap to budget (in %):  115.15107865144853\n"
     ]
    }
   ],
   "source": [
    "print(\"Recycle: Gap to budget (total): \", EB_annum - sum(leftover_result[\"ed\"]))\n",
    "print(\"Recycle: Gap to budget (in %): \", sum(leftover_result[\"ed\"]) / EB_annum *100)\n",
    "print(\"\")\n",
    "print(\"Weighted Recycle: Gap to budget (total): \", EB_annum - sum(leftover_resultWeighted[\"ed\"]))\n",
    "print(\"Weighted Recycle: Gap to budget (in %): \", sum(leftover_resultWeighted[\"ed\"]) / EB_annum *100)\n",
    "print(\"\")\n",
    "print(\"Randomiized Result: Gap to budget (total): \", EB_annum - sum(randomizedEB_result[\"ed\"]))\n",
    "print(\"Randomiized Result: Gap to budget (in %): \", sum(randomizedEB_result[\"ed\"]) / EB_annum *100)\n",
    "#print(\"\")\n",
    "#print(\"Randomiized Result: Gap to budget (total): \", EB_annum - sum(randomEB_075_result[\"ed\"]))\n",
    "#print(\"Randomiized Result: Gap to budget (in %): \", sum(randomizedEB_result[\"ed\"]) / EB_annum *100)"
   ]
  },
  {
   "cell_type": "markdown",
   "metadata": {},
   "source": [
    "# Total annual carbon emissions"
   ]
  },
  {
   "cell_type": "code",
   "execution_count": 51,
   "metadata": {},
   "outputs": [],
   "source": [
    "# Carbon Budget calculation\n",
    "carbonEmission_2020 = calcCarbonEmissionFromEnergyDemand(calcEnergyDemandFromAVG(clickData_hourly_2014),ci_data)\n",
    "carbonEmission_2020 = sum(carbonEmission_2020) # / 8784)* 8760 # Leap Year\n",
    "\n",
    "#carbonBudget_anually = sum(calcCarbonEmissionFromEnergyDemand(calcEnergyDemandFromAVG()))\n",
    "carbonBudget_anually = carbonEmission_2020 * 0.92"
   ]
  },
  {
   "cell_type": "code",
   "execution_count": 52,
   "metadata": {},
   "outputs": [],
   "source": [
    "optimalCE = sum([optimization_result[\"ed\"][i] * ci_data_2021[i] for i in range(0,8760)])\n",
    "simpleCA_resultCE = sum([simpleCA_result[\"ed\"][i] * ci_data_2021[i] for i in range(0,8760)])\n",
    "leftover_resultCE = sum([leftover_result[\"ed\"][i] * ci_data_2021[i] for i in range(0,8760)])\n",
    "leftover_resultWeightedCE = sum([leftover_resultWeighted[\"ed\"][i] * ci_data_2021[i] for i in range(0,8760)])\n",
    "randomEB_result = sum([randomizedEB_result[\"ed\"][i] * ci_data_2021[i] for i in range(0,8760)])"
   ]
  },
  {
   "cell_type": "code",
   "execution_count": 53,
   "metadata": {},
   "outputs": [
    {
     "name": "stdout",
     "output_type": "stream",
     "text": [
      "Optimal: Carbon Budget gap (total):  5644221768.169201\n",
      "Optimal: Carbon Budget gap (in %):  84.96302012549994\n",
      "\n",
      "Simple: Carbon Budget gap (total):  15496301105.71622\n",
      "Simple: Carbon Budget gap (in %):  58.71573133962256\n",
      "\n",
      "Recycle: Carbon Budget gap (total):  162837318.34320068\n",
      "Recycle: Carbon Budget gap (in %):  99.56617908024927\n",
      "\n",
      "Weighted Recycle: Carbon Budget gap (total):  142513448.34827423\n",
      "Weighted Recycle: Carbon Budget gap (in %):  99.62032465365837\n",
      "\n",
      "Randomized Result: Carbon Budget gap (total):  393067994.0195236\n",
      "Randomized Result: Carbon Budget gap (in %):  98.95281302575415\n"
     ]
    }
   ],
   "source": [
    "print(\"Optimal: Carbon Budget gap (total): \", carbonBudget_anually - optimalCE)\n",
    "print(\"Optimal: Carbon Budget gap (in %): \", (optimalCE / carbonBudget_anually) *100)\n",
    "print(\"\")\n",
    "print(\"Simple: Carbon Budget gap (total): \", carbonBudget_anually - simpleCA_resultCE)\n",
    "print(\"Simple: Carbon Budget gap (in %): \", (simpleCA_resultCE / carbonBudget_anually) *100)\n",
    "print(\"\")\n",
    "print(\"Recycle: Carbon Budget gap (total): \", carbonBudget_anually - leftover_resultCE)\n",
    "print(\"Recycle: Carbon Budget gap (in %): \", (leftover_resultCE / carbonBudget_anually) *100)\n",
    "print(\"\")\n",
    "print(\"Weighted Recycle: Carbon Budget gap (total): \", carbonBudget_anually - leftover_resultWeightedCE)\n",
    "print(\"Weighted Recycle: Carbon Budget gap (in %): \", (leftover_resultWeightedCE / carbonBudget_anually) *100)\n",
    "print(\"\")\n",
    "print(\"Randomized Result (1.0-1.4): Carbon Budget gap (total): \", carbonBudget_anually - randomEB_result)\n",
    "print(\"Randomized Result (1.0-1.4): Carbon Budget gap (in %): \", (randomEB_result / carbonBudget_anually) *100)\n"
   ]
  }
 ],
 "metadata": {
  "kernelspec": {
   "display_name": "base",
   "language": "python",
   "name": "python3"
  },
  "language_info": {
   "codemirror_mode": {
    "name": "ipython",
    "version": 3
   },
   "file_extension": ".py",
   "mimetype": "text/x-python",
   "name": "python",
   "nbconvert_exporter": "python",
   "pygments_lexer": "ipython3",
   "version": "3.9.12"
  },
  "orig_nbformat": 4
 },
 "nbformat": 4,
 "nbformat_minor": 2
}
