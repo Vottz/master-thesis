{
 "cells": [
  {
   "cell_type": "code",
   "execution_count": 1,
   "metadata": {},
   "outputs": [],
   "source": [
    "from datetime import *\n",
    "from statistics import mean \n",
    "from itertools import product\n",
    "import sys \n",
    "import os\n",
    "path = os.path.dirname(os.getcwd())\n",
    "sys.path.append(path)\n",
    "from lib import *"
   ]
  },
  {
   "attachments": {},
   "cell_type": "markdown",
   "metadata": {},
   "source": [
    "# Baseline"
   ]
  },
  {
   "cell_type": "code",
   "execution_count": 2,
   "metadata": {},
   "outputs": [],
   "source": [
    "data, vars_ms, userMax, energyDemand, q = getConstantsFromBPMN('../flightBooking.json')\n",
    "# User Data\n",
    "df = pd.read_csv(r'../data/projectcount_wikiDE_2015.csv')\n",
    "clickData_hourly = df[\"De\"].tolist()\n",
    "clickData_hourly = clickData_hourly[24:] + clickData_hourly[0:24]"
   ]
  },
  {
   "attachments": {},
   "cell_type": "markdown",
   "metadata": {},
   "source": [
    "## Low Power"
   ]
  },
  {
   "cell_type": "code",
   "execution_count": 3,
   "metadata": {},
   "outputs": [
    {
     "name": "stdout",
     "output_type": "stream",
     "text": [
      "Q: 0.1670625\n"
     ]
    }
   ],
   "source": [
    "ed_hourly_lowPower = []\n",
    "prodQ = 1.0\n",
    "for i in range(8760):\n",
    "    ed = 0\n",
    "    s = clickData_hourly[i]\n",
    "    for j in range(len(q)):\n",
    "        if userMax[j][0] > 0:\n",
    "            ed += energyDemand[j][0] * math.ceil(s / userMax[j][0])\n",
    "        s = s * q[j][0]\n",
    "\n",
    "    ed_hourly_lowPower.append(ed)\n",
    "\n",
    "prodQ = 1.0\n",
    "for j in range(len(q)):\n",
    "    if q[j][0] > 0.1:\n",
    "        prodQ *= q[j][0]\n",
    "print(\"Q: \" + str(prodQ))"
   ]
  },
  {
   "cell_type": "markdown",
   "metadata": {},
   "source": [
    "# Normal\n",
    "Here the applications architecture was picked such that it's energy consumption lies in the middle of the spectrum. The architecture is not optimized for energy consumption, but also not for performance."
   ]
  },
  {
   "cell_type": "code",
   "execution_count": 4,
   "metadata": {},
   "outputs": [],
   "source": [
    "lowPower_ed = sum(energyDemand[i][0] for i in range(len(energyDemand)))\n",
    "highPower_ed = sum(energyDemand[i][-1] for i in range(len(energyDemand)))\n",
    "\n",
    "median_ed = (highPower_ed - lowPower_ed)/2\n",
    "\n",
    "\n",
    "indices = []\n",
    "for ms in data['components']:\n",
    "    indices.append([0] * len(data['components'][ms]))\n",
    "\n",
    "# Calculating all possible configurations\n",
    "vars_gb = [[]]\n",
    "for i in indices:\n",
    "    vars_gb *= len(i)\n",
    "ed_combo = list(product(*energyDemand))\n",
    "userMax_combo = list(product(*userMax))\n",
    "q_combo = list(product(*q))\n",
    "\n",
    "for i in range(len(vars_gb)):\n",
    "    vars_gb[i].append([ed_combo[i], userMax_combo[i], q_combo[i]])"
   ]
  },
  {
   "cell_type": "code",
   "execution_count": 5,
   "metadata": {},
   "outputs": [],
   "source": [
    "# Finding the configuration with the closest energy demand to the median energy demand\n",
    "temp = highPower_ed\n",
    "for i in range(len(vars_gb)):\n",
    "    if abs(sum(vars_gb[0][i][0])-median_ed) < temp:\n",
    "        temp = abs(sum(vars_gb[0][i][0])-median_ed)\n",
    "        index = i\n",
    "normal_conf = vars_gb[0][index]"
   ]
  },
  {
   "cell_type": "code",
   "execution_count": 6,
   "metadata": {},
   "outputs": [
    {
     "name": "stdout",
     "output_type": "stream",
     "text": [
      "Q: 0.30071250000000005\n"
     ]
    }
   ],
   "source": [
    "ed_hourly_normal = []\n",
    "for i in range(8760):\n",
    "    ed = 0\n",
    "    s = clickData_hourly[i]\n",
    "    for j in range(len(q)):\n",
    "        if normal_conf[1][j] > 0:\n",
    "            ed += normal_conf[0][j] * math.ceil(s / userMax[j][0])\n",
    "        s = s * normal_conf[2][j]\n",
    "    ed_hourly_normal.append(ed)\n",
    "\n",
    "prodQ = 1.0\n",
    "for j in range(len(q)):\n",
    "        prodQ *= normal_conf[2][j]\n",
    "print(\"Q: \" + str(prodQ))"
   ]
  },
  {
   "attachments": {},
   "cell_type": "markdown",
   "metadata": {},
   "source": [
    "## High Performance"
   ]
  },
  {
   "cell_type": "code",
   "execution_count": 7,
   "metadata": {},
   "outputs": [
    {
     "name": "stdout",
     "output_type": "stream",
     "text": [
      "Q: 0.8464499999999999\n"
     ]
    }
   ],
   "source": [
    "ed_hourly_highPower = []\n",
    "for i in range(8760):\n",
    "    ed = 0\n",
    "    s = clickData_hourly[i]\n",
    "    for j in range(len(q)):\n",
    "        if userMax[j][-1] > 0:\n",
    "            ed += energyDemand[j][-1] * math.ceil(s / userMax[j][-1])\n",
    "        s = s * q[j][-1]\n",
    "    ed_hourly_highPower.append(ed)\n",
    "prodQ = 1.0\n",
    "for j in range(len(q)):\n",
    "    if q[j][-1] > 0.1:\n",
    "        prodQ *= q[j][-1]\n",
    "print(\"Q: \" + str(prodQ))"
   ]
  },
  {
   "cell_type": "code",
   "execution_count": 8,
   "metadata": {},
   "outputs": [],
   "source": [
    "# new 03.07.23\n",
    "df = pd.read_csv(r'../data/DE_2021.csv')\n",
    "ci_data_2021_hourly = df['carbon_intensity_avg']\n",
    "\n",
    "ed_daily_highPower = []\n",
    "for i in range(365):\n",
    "    temp = 0\n",
    "    for j in range(24):\n",
    "        temp += ed_hourly_highPower[i*24+j]*ci_data_2021_hourly[i*24+j]\n",
    "    ed_daily_highPower.append(temp)"
   ]
  },
  {
   "cell_type": "code",
   "execution_count": 9,
   "metadata": {},
   "outputs": [],
   "source": [
    "ed_hourly_lowPower = np.array(ed_hourly_lowPower)\n",
    "#ed_hourly_highPower[1000] = 6277312.0\n",
    "#ed_hourly_highPower[1001] = 6277312.0\n",
    "ed_hourly_highPower = np.array(ed_hourly_highPower)\n",
    "\n",
    "data = pd.DataFrame({'lp': ed_hourly_lowPower, 'hp': ed_hourly_highPower}, columns=['lp', 'hp'])"
   ]
  },
  {
   "attachments": {},
   "cell_type": "markdown",
   "metadata": {},
   "source": [
    "# Write Data to CSV"
   ]
  },
  {
   "cell_type": "code",
   "execution_count": 10,
   "metadata": {},
   "outputs": [],
   "source": [
    "f = open('../results/baseline.csv', 'w')\n",
    "writer = csv.writer(f)\n",
    "row = [\"lp\",\"np\",\"hp\"]\n",
    "writer.writerow(row)\n",
    "for lp,np,hp in zip(ed_hourly_lowPower,ed_hourly_normal,ed_hourly_highPower):\n",
    "    row = []\n",
    "    row.append(lp)\n",
    "    row.append(np)\n",
    "    row.append(hp)\n",
    "    writer.writerow(row)\n",
    "f.close()"
   ]
  }
 ],
 "metadata": {
  "kernelspec": {
   "display_name": "base",
   "language": "python",
   "name": "python3"
  },
  "language_info": {
   "codemirror_mode": {
    "name": "ipython",
    "version": 3
   },
   "file_extension": ".py",
   "mimetype": "text/x-python",
   "name": "python",
   "nbconvert_exporter": "python",
   "pygments_lexer": "ipython3",
   "version": "3.9.12"
  },
  "orig_nbformat": 4
 },
 "nbformat": 4,
 "nbformat_minor": 2
}
