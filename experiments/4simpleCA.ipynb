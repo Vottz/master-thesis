{
 "cells": [
  {
   "cell_type": "code",
   "execution_count": 1,
   "metadata": {},
   "outputs": [],
   "source": [
    "from datetime import *\n",
    "import csv\n",
    "import pandas as pd\n",
    "\n",
    "import math\n",
    "from statistics import mean \n",
    "import sys \n",
    "import os\n",
    "\n",
    "path = os.path.dirname(os.getcwd())\n",
    "sys.path.append(os.path.abspath(path))\n",
    "from lib import *"
   ]
  },
  {
   "cell_type": "code",
   "execution_count": 2,
   "metadata": {},
   "outputs": [],
   "source": [
    "# Application Architecture Data\n",
    "data, vars_ms, userMax, energyDemand, q = getConstantsFromBPMN('../flightBooking.json')\n",
    "# User Data\n",
    "df = pd.read_csv(r'../data/projectcount_wikiDE_2014.csv')\n",
    "clickData_hourly_2014 = df[\"de\"]\n",
    "# CI Data\n",
    "df = pd.read_csv(r'../data/DE_2020.csv')\n",
    "ci_data = df['carbon_intensity_avg']\n",
    "\n",
    "\n",
    "carbonBudget = calcCarbonBudgetHourInWeekAVG(2020,clickData_hourly_2014,ci_data)"
   ]
  },
  {
   "cell_type": "code",
   "execution_count": 3,
   "metadata": {},
   "outputs": [],
   "source": [
    "# Defining 3 execution formats\n",
    "# q, energyDemand, user_max\n",
    "lowPower = []\n",
    "normalPower = []\n",
    "highPower = []\n",
    "for i in range(len(vars_ms)):\n",
    "    lowPower.append([q[i][0],energyDemand[i][0],userMax[i][0]])\n",
    "    normalPower.append([q[i][-1],energyDemand[i][-1],userMax[i][-1]])\n",
    "    highPower.append([q[i][-1],energyDemand[i][-1],userMax[i][-1]])\n",
    "\n",
    "lowPower[1] = [0.9,0,10000000000]\n",
    "lowPower[4] = [0.75,0,10000000000]\n",
    "\n",
    "normalPower[0] = [0.7,39.9,12000]\n",
    "normalPower[1] = [0.9,0,10000000000]\n",
    "normalPower[4] = [0.9,39.9,12000]"
   ]
  },
  {
   "cell_type": "code",
   "execution_count": 4,
   "metadata": {},
   "outputs": [],
   "source": [
    "def energyDemand(configuration, user_demand):\n",
    "    ed = math.ceil(user_demand / configuration[0][2]) * configuration[0][1]\n",
    "    user_temp = user_demand * configuration[0][0]\n",
    "    for i in range(1,len(configuration)):\n",
    "        if (configuration[i][2] == 10000000000): #ToDo find a better way\n",
    "            ed += 0\n",
    "        else:\n",
    "            ed += math.ceil(user_temp / configuration[i][2]) * configuration[i][1]\n",
    "        user_temp *= configuration[i][0]\n",
    "    return(ed)"
   ]
  },
  {
   "cell_type": "markdown",
   "metadata": {},
   "source": [
    "# Running Experiment"
   ]
  },
  {
   "cell_type": "code",
   "execution_count": 5,
   "metadata": {},
   "outputs": [],
   "source": [
    "df = pd.read_csv(r'../data/projectcount_wikiDE_2015.csv')\n",
    "clickData_hourly = df[\"De\"].tolist()\n",
    "clickData_hourly = clickData_hourly[24:] + clickData_hourly[0:24]\n",
    "\n",
    "df = pd.read_csv(r'../data/DE_2021.csv')\n",
    "ci_data_2021 = df['carbon_intensity_avg']\n",
    "\n",
    "\n",
    "weekday_frequency = weekdayfrequency(2021)\n",
    "s = weekday_frequency.index(53)*24\n",
    "\n",
    "\n",
    "row = [\"q\",\"user-throughput\",\"ed\",\"eb\",\"U\",\"ce\"]\n",
    "f = open('../results/3_simpleCA_result.csv', 'w')\n",
    "writer = csv.writer(f)\n",
    "writer.writerow(row)\n",
    "f.close()\n",
    "\n",
    "\n",
    "for t in range(8760):\n",
    "    index = (t+s) % 168\n",
    "    #eb_temp  = cb_perHour[index] / ci_data_2021_hourly[i]    \n",
    "    ed = 0\n",
    "    ed_hp = energyDemand(highPower, clickData_hourly[t])\n",
    "    ed_np = energyDemand(normalPower, clickData_hourly[t])\n",
    "    eb = carbonBudget[index]/ci_data_2021[t]\n",
    "    \n",
    "    if ed_hp <= eb:\n",
    "        ed = ed_hp\n",
    "        q = math.prod([highPower[j][0] for j in range(len(vars_ms))])\n",
    "        row = [q,q*clickData_hourly[t],ed]\n",
    "    elif ed_np <= eb:\n",
    "        ed = ed_np\n",
    "        q = math.prod([normalPower[j][0] for j in range(len(vars_ms))])\n",
    "        row = [q,q*clickData_hourly[t],ed]\n",
    "    else:\n",
    "        ed = energyDemand(lowPower, clickData_hourly[t])\n",
    "        q = math.prod([lowPower[j][0] for j in range(len(vars_ms))])\n",
    "        row = [q,q*clickData_hourly[t],ed]\n",
    "    # Writing results to CSV\n",
    "    f = open('../results/3_simpleCA_result.csv', 'a')\n",
    "    row.append(eb)\n",
    "    row.append(clickData_hourly[t])\n",
    "    row.append(ed * ci_data_2021[t])\n",
    "    writer = csv.writer(f)\n",
    "    writer.writerow(row)\n",
    "    f.close()\n",
    "    if t%168 == 0:\n",
    "        eb = [0]*168\n",
    "        for i in range(len(carbonBudget)):\n",
    "            index2 = (i+s)%168\n",
    "            eb[index2] = carbonBudget[index2]/ci_data_2021[t+i]\n",
    "            if t+i == len(clickData_hourly)-1:\n",
    "                break"
   ]
  }
 ],
 "metadata": {
  "kernelspec": {
   "display_name": "base",
   "language": "python",
   "name": "python3"
  },
  "language_info": {
   "codemirror_mode": {
    "name": "ipython",
    "version": 3
   },
   "file_extension": ".py",
   "mimetype": "text/x-python",
   "name": "python",
   "nbconvert_exporter": "python",
   "pygments_lexer": "ipython3",
   "version": "3.9.12"
  },
  "orig_nbformat": 4
 },
 "nbformat": 4,
 "nbformat_minor": 2
}
