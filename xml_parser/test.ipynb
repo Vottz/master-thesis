{
 "cells": [
  {
   "cell_type": "code",
   "execution_count": 7,
   "metadata": {},
   "outputs": [],
   "source": [
    "import xml.dom.minidom"
   ]
  },
  {
   "cell_type": "code",
   "execution_count": 109,
   "metadata": {},
   "outputs": [],
   "source": [
    "# Can use BeautifulSoup to parse XML\n",
    "# from bs4 import BeautifulSoup\n",
    "\n",
    "# Or use Elementtree\n",
    "\n",
    "def importXML_viaFileReader(fileName):\n",
    "    with open(fileName, 'r') as f:\n",
    "        data = f.read()\n",
    "    return data\n",
    "\n",
    "def getText(nodelist):\n",
    "    rc = []\n",
    "    for node in nodelist:\n",
    "        if node.nodeType == node.TEXT_NODE:\n",
    "            rc.append(node.data)\n",
    "    return ''.join(rc)\n",
    "\n",
    "\n",
    "def importXML(fileName):\n",
    "    return(xml.dom.minidom.parse(fileName))\n",
    "\n",
    "\n",
    "\n",
    "bpmn = importXML('../bpmn/flight-booking_idea1.bpmn')"
   ]
  },
  {
   "cell_type": "code",
   "execution_count": 110,
   "metadata": {},
   "outputs": [
    {
     "name": "stdout",
     "output_type": "stream",
     "text": [
      "bpmn:definitions\n"
     ]
    }
   ],
   "source": [
    "print(bpmn.firstChild.tagName)"
   ]
  },
  {
   "attachments": {},
   "cell_type": "markdown",
   "metadata": {},
   "source": [
    "# Coding"
   ]
  },
  {
   "cell_type": "code",
   "execution_count": 111,
   "metadata": {},
   "outputs": [
    {
     "name": "stdout",
     "output_type": "stream",
     "text": [
      "0\n",
      "0\n",
      "0\n",
      "2\n",
      "2\n",
      "3\n",
      "3\n",
      "['Flight Search ', 'Weather Information', 'Flight Booking ', 'Rental Car Booking ', 'Payment']\n",
      "[['Normal', 'Low Power', 'High Performance'], [''], ['Normal', 'Low power'], ['Normal', 'High Performance'], ['']]\n"
     ]
    }
   ],
   "source": [
    "participant = bpmn.getElementsByTagName(\"bpmn:participant\")\n",
    "for i in participant:\n",
    "    name = i.getAttribute(\"name\")\n",
    "\n",
    "serviceTask = bpmn.getElementsByTagName(\"bpmn:serviceTask\")\n",
    "ms = []\n",
    "for i in serviceTask :\n",
    "    ms.append(i.getAttribute(\"name\"))\n",
    "ms_iterator = [s.replace(\"\\n\", \" \") for s in ms]\n",
    "ms = list(ms_iterator)\n",
    "\n",
    "# Execution Formats\n",
    "ms_name = []\n",
    "for i in ms:\n",
    "    if i.find(\"[\") != -1:\n",
    "        s = i.find(\"[\")\n",
    "        t = i.find(\"]\")\n",
    "        i = i.replace(i[s:t+1], \"\")\n",
    "    ms_name.append(i)\n",
    "ms_name = list(dict.fromkeys(ms_name))\n",
    "\n",
    "execution_formats = [[] for x in range(len(ms_name))]\n",
    "for i in ms:\n",
    "    if i.find(\"[\") != -1:\n",
    "        s = i.find(\"[\")\n",
    "        t = i.find(\"]\")\n",
    "        temp_indexFinder = i.replace(i[s:t+1], \"\")\n",
    "        ms_iter = ms_name.index(temp_indexFinder)\n",
    "        print(ms_iter)\n",
    "        execution_formats[ms_iter].append(i[s+1:t])\n",
    "    else:\n",
    "        temp_indexFinder = i\n",
    "        ms_iter = ms_name.index(temp_indexFinder)\n",
    "        execution_formats[ms_iter].append(\"\")\n",
    "print(ms_name)\n",
    "print(execution_formats)"
   ]
  },
  {
   "cell_type": "code",
   "execution_count": 112,
   "metadata": {},
   "outputs": [],
   "source": [
    "import json\n",
    "\n",
    "jsObj = {\n",
    "    \"name\": name,\n",
    "    \"components\": {\n",
    "\n",
    "    }\n",
    "}\n",
    "for i in ms_name:\n",
    "    jsObj[\"components\"][i] = {\n",
    "    }\n",
    "    for j in execution_formats[ms_name.index(i)]:\n",
    "        jsObj[\"components\"][i][j] = {\n",
    "                \"aws-ec2-type\": \"\",\n",
    "                \"energy-demand\": 0.0,\n",
    "                \"user-scaling\": 0,\n",
    "                \"q\": 0.0\n",
    "        }\n",
    "\n",
    "\n",
    "json_object = json.dumps(jsObj, indent = 4)\n",
    "\n",
    "\n",
    "# Write to json\n",
    "with open(name + \".json\", \"w\") as outfile:\n",
    "    outfile.write(json_object)\n"
   ]
  },
  {
   "attachments": {},
   "cell_type": "markdown",
   "metadata": {},
   "source": [
    "## Execution Format Data"
   ]
  },
  {
   "cell_type": "code",
   "execution_count": 129,
   "metadata": {},
   "outputs": [
    {
     "name": "stdout",
     "output_type": "stream",
     "text": [
      "{'Gateway_1m30h1u': ['Flow_00n5nre', 'Flow_0d32kes', 'Flow_1yo3en2'], 'Gateway_0oqidx5': ['Flow_0oo8rar', 'Flow_1vzbicw'], 'Gateway_09s5c9c': ['Flow_00c5ec3', 'Flow_11ukj51'], 'Gateway_0ijge64': ['Flow_1wftvp9'], 'Gateway_1m18p5p': ['Flow_1145dvq'], 'Gateway_0wzzojv': ['Flow_0qh8ldb', 'Flow_010zav3'], 'Gateway_09y8nf2': ['Flow_0kh2ita', 'Flow_07i3ize'], 'Gateway_1evznl6': ['Flow_0z8hi84'], 'Gateway_04u48v1': ['Flow_0bpg9v3']}\n"
     ]
    }
   ],
   "source": [
    "exclusiveGateway = bpmn.getElementsByTagName(\"bpmn:exclusiveGateway\")\n",
    "xor_incoming = {}\n",
    "for i in exclusiveGateway:\n",
    "    xor_incoming[i.getAttribute(\"id\")] = []\n",
    "    incomingE = i.getElementsByTagName(\"bpmn:incoming\")\n",
    "    for j in incomingE:\n",
    "        xor_incoming[i.getAttribute(\"id\")].append(j.firstChild.nodeValue)\n",
    "    #print(len(i.getElementsByTagName(\"bpmn:outgoing\")))\n",
    "xor_outgoing = {}\n",
    "for i in exclusiveGateway:\n",
    "    xor_outgoing[i.getAttribute(\"id\")] = []\n",
    "    outgoingE = i.getElementsByTagName(\"bpmn:outgoing\")\n",
    "    for j in outgoingE:\n",
    "        xor_outgoing[i.getAttribute(\"id\")].append(j.firstChild.nodeValue)\n",
    "    #print(len(i.getElementsByTagName(\"bpmn:outgoing\")))\n",
    "print(xor_outgoing)"
   ]
  },
  {
   "cell_type": "code",
   "execution_count": 167,
   "metadata": {},
   "outputs": [
    {
     "name": "stdout",
     "output_type": "stream",
     "text": [
      "Flow_00n5nre\n",
      "Flow_0d32kes\n",
      "Flow_1yo3en2\n",
      "Flow_00n5nre\n",
      "Flow_0d32kes\n",
      "Flow_1yo3en2\n",
      "Flow_00n5nre\n",
      "Flow_0d32kes\n",
      "Flow_1yo3en2\n",
      "Flow_0oo8rar\n",
      "Flow_1vzbicw\n",
      "Flow_00c5ec3\n",
      "Flow_11ukj51\n",
      "Flow_00c5ec3\n",
      "Flow_11ukj51\n",
      "Flow_0kh2ita\n",
      "Flow_07i3ize\n",
      "Flow_0kh2ita\n",
      "Flow_07i3ize\n",
      "Flow_0bpg9v3\n"
     ]
    }
   ],
   "source": [
    "# Whenever an xor-Gate iss used to skip a service, that service is optional\n",
    "for i in serviceTask :\n",
    "    incomingE = i.getElementsByTagName(\"bpmn:incoming\")\n",
    "    outgoingE = i.getElementsByTagName(\"bpmn:outgoing\")\n",
    "    for j in incomingE:\n",
    "        sMS = j.firstChild.nodeValue\n",
    "        for x in xor_outgoing.items():\n",
    "            if sMS in x[1]:\n",
    "                previousXOR = x[0]\n",
    "                for tOut in xor_outgoing[previousXOR]:\n",
    "                    print(\"Out\")\n",
    "                # TODO: Check if the outgoing edge is the one that skips the service\n",
    "                ## i.e. it has an direct edge to another Gateway\n",
    "    for j in outgoingE:\n",
    "        tMS = j.firstChild.nodeValue\n",
    "    #previousXOR = xor_outgoing.keys()[xor_outgoing.values().index(sMS)]\n",
    "\n"
   ]
  },
  {
   "cell_type": "code",
   "execution_count": null,
   "metadata": {},
   "outputs": [],
   "source": []
  }
 ],
 "metadata": {
  "kernelspec": {
   "display_name": "base",
   "language": "python",
   "name": "python3"
  },
  "language_info": {
   "codemirror_mode": {
    "name": "ipython",
    "version": 3
   },
   "file_extension": ".py",
   "mimetype": "text/x-python",
   "name": "python",
   "nbconvert_exporter": "python",
   "pygments_lexer": "ipython3",
   "version": "3.9.12"
  },
  "orig_nbformat": 4
 },
 "nbformat": 4,
 "nbformat_minor": 2
}
